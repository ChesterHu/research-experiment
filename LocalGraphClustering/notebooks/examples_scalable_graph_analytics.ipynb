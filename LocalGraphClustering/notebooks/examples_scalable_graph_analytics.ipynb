{
 "cells": [
  {
   "cell_type": "code",
   "execution_count": 1,
   "metadata": {},
   "outputs": [],
   "source": [
    "import localgraphclustering as lgc\n",
    "\n",
    "import time\n",
    "import numpy as np\n",
    "\n",
    "# Import matplotlib \n",
    "import matplotlib.pyplot as plt"
   ]
  },
  {
   "cell_type": "markdown",
   "metadata": {},
   "source": [
    "# Memory and time efficient loading of graphs. Memory and time grows linearly w.r.t the number of edges."
   ]
  },
  {
   "cell_type": "code",
   "execution_count": 2,
   "metadata": {
    "scrolled": true
   },
   "outputs": [
    {
     "name": "stdout",
     "output_type": "stream",
     "text": [
      "running time: 117.39332413673401s\n"
     ]
    }
   ],
   "source": [
    "# Download this dataset from http://snap.stanford.edu/data/com-Orkut.html\n",
    "# This dataset has 3,072,441 nodes and 117,185,083 edges.\n",
    "# Loading this graph requires about 9GB of memory and 140 seconds on Macbook Pro 2016 with\n",
    "# 2.9 GHz Intel Core i7, 16GB 2133 MHz LPDD3.\n",
    "start = time.time()\n",
    "g = lgc.GraphLocal('/Users/kimonfountoulakis/Downloads/com-orkut.ungraph.edgelist','edgelist','\\t')\n",
    "end = time.time()\n",
    "print(\"running time:\",str(end-start)+\"s\")"
   ]
  },
  {
   "cell_type": "markdown",
   "metadata": {},
   "source": [
    "# The routines below are applicable for scalable local graph clustering analytics; low memory requirements and fast running time. The memory and running time requirements are of the order of the volume of target cluster instead of the order of the volume of the graph."
   ]
  },
  {
   "cell_type": "code",
   "execution_count": null,
   "metadata": {},
   "outputs": [],
   "source": []
  },
  {
   "cell_type": "markdown",
   "metadata": {},
   "source": [
    "# Call Approximate PageRank"
   ]
  },
  {
   "cell_type": "code",
   "execution_count": 3,
   "metadata": {},
   "outputs": [
    {
     "name": "stdout",
     "output_type": "stream",
     "text": [
      "running time: 0.14091277122497559s\n"
     ]
    }
   ],
   "source": [
    "start = time.time()\n",
    "\n",
    "reference_node = 3215\n",
    "\n",
    "# Find an approximate PageRank vector by calling a C++ code.\n",
    "output_pr_fast = lgc.approximate_PageRank(g,[reference_node],cpp = True)\n",
    "\n",
    "end = time.time()\n",
    "print(\"running time:\",str(end-start)+\"s\")"
   ]
  },
  {
   "cell_type": "markdown",
   "metadata": {
    "collapsed": true
   },
   "source": [
    "# Round the output of Approximate PageRank"
   ]
  },
  {
   "cell_type": "code",
   "execution_count": 4,
   "metadata": {},
   "outputs": [
    {
     "name": "stdout",
     "output_type": "stream",
     "text": [
      "running time: 0.5659630298614502s\n"
     ]
    }
   ],
   "source": [
    "start = time.time()\n",
    "\n",
    "# Call C++ version of sweep cut rounding on the l1-regularized PageRank solution.\n",
    "output_sc_fast = lgc.sweep_cut(g,output_pr_fast,cpp = True)\n",
    "\n",
    "end = time.time()\n",
    "print(\"running time:\",str(end-start)+\"s\")"
   ]
  },
  {
   "cell_type": "markdown",
   "metadata": {
    "collapsed": true
   },
   "source": [
    "# Memory efficient NCP"
   ]
  },
  {
   "cell_type": "code",
   "execution_count": null,
   "metadata": {},
   "outputs": [
    {
     "name": "stdout",
     "output_type": "stream",
     "text": [
      "approxPageRank:ncpapr_acl:  322.1 neighborhoods\n"
     ]
    }
   ],
   "source": [
    "start = time.time()\n",
    "\n",
    "ncp_instance = lgc.NCPData(g,do_largest_component=False)\n",
    "ncp_instance.approxPageRank(ratio=0.5,timeout=7200)\n",
    "ncp_plots = lgc.NCPPlots(ncp_instance,method_name = \"acl\")\n",
    "#plot conductance vs size\n",
    "fig, ax, mintuples = ncp_plots.cond_by_size()\n",
    "plt.show()\n",
    "#plot conductance vs volume\n",
    "fig, ax, mintuples = ncp_plots.cond_by_vol()\n",
    "plt.show()\n",
    "#plot isoperimetry vs size\n",
    "fig, ax, mintuples = ncp_plots.isop_by_size()\n",
    "plt.show()\n",
    "\n",
    "end = time.time()\n",
    "print(\"running time:\",str(end-start)+\"s\")"
   ]
  },
  {
   "cell_type": "markdown",
   "metadata": {
    "collapsed": true
   },
   "source": [
    "# Compute the Network Community Profile of the largest component of the graph."
   ]
  },
  {
   "cell_type": "code",
   "execution_count": null,
   "metadata": {},
   "outputs": [],
   "source": [
    "# The code below will compute the NCP for the largest connected component of the graph.\n",
    "# To compute the largest component the memory requirements are being doubled, i.e., two times\n",
    "# the size of the graph object in line 2 above.\n",
    "start = time.time()\n",
    "\n",
    "ncp_instance = lgc.NCPData(g,do_largest_component=True)\n",
    "ncp_instance.approxPageRank(ratio=0.5,timeout=7200)\n",
    "ncp_plots = lgc.NCPPlots(ncp_instance,method_name = \"acl\")\n",
    "#plot conductance vs size\n",
    "fig, ax = ncp_plots.cond_by_size()\n",
    "plt.show()\n",
    "#plot conductance vs volume\n",
    "fig, ax = ncp_plots.cond_by_vol()\n",
    "plt.show()\n",
    "#plot isoperimetry vs size\n",
    "fig, ax = ncp_plots.isop_by_size()\n",
    "plt.show()\n",
    "\n",
    "end = time.time()\n",
    "print(\"running time:\",str(end-start)+\"s\")"
   ]
  },
  {
   "cell_type": "markdown",
   "metadata": {
    "collapsed": true
   },
   "source": [
    "# Call L1-regularized PageRank"
   ]
  },
  {
   "cell_type": "code",
   "execution_count": null,
   "metadata": {},
   "outputs": [],
   "source": [
    "start = time.time()\n",
    "\n",
    "reference_node = 3215\n",
    "\n",
    "# Find an approximate PageRank vector by calling a C++ code.\n",
    "output_l1reg_fast = lgc.approximate_PageRank(g,[reference_node],method = \"l1reg\",cpp = True)\n",
    "\n",
    "end = time.time()\n",
    "print(\"running time:\",str(end-start)+\"s\")"
   ]
  },
  {
   "cell_type": "markdown",
   "metadata": {},
   "source": [
    "# Round the output of L1-regularizedPageRank"
   ]
  },
  {
   "cell_type": "code",
   "execution_count": null,
   "metadata": {},
   "outputs": [],
   "source": [
    "start = time.time()\n",
    "\n",
    "# Call C++ version of sweep cut rounding on the l1-regularized PageRank solution.\n",
    "output_sc_fast = lgc.sweep_cut(g,output_l1reg_fast,cpp = True)\n",
    "\n",
    "end = time.time()\n",
    "print(\"running time:\",str(end-start)+\"s\")"
   ]
  },
  {
   "cell_type": "markdown",
   "metadata": {},
   "source": [
    "# Memory efficient NCP based on L1-regularized PageRank"
   ]
  },
  {
   "cell_type": "code",
   "execution_count": null,
   "metadata": {},
   "outputs": [],
   "source": [
    "# The code below will compute the NCP of graph and not the NCP of the largest connected component.\n",
    "# The code below does not double the memory requirements.\n",
    "\n",
    "start = time.time()\n",
    "\n",
    "ncp_instance = lgc.NCPData(g,do_largest_component=True)\n",
    "ncp_instance.approxPageRank(ratio=0.5,timeout=7200)\n",
    "ncp_plots = lgc.NCPPlots(ncp_instance,method_name = \"acl\")\n",
    "#plot conductance vs size\n",
    "fig, ax = ncp_plots.cond_by_size()\n",
    "plt.show()\n",
    "#plot conductance vs volume\n",
    "fig, ax = ncp_plots.cond_by_vol()\n",
    "plt.show()\n",
    "#plot isoperimetry vs size\n",
    "fig, ax = ncp_plots.isop_by_size()\n",
    "plt.show()\n",
    "end = time.time()\n",
    "print(\"running time:\",str(end-start)+\"s\")\n",
    "\n",
    "end = time.time()\n",
    "print(\"running time:\",str(end-start)+\"s\")"
   ]
  },
  {
   "cell_type": "markdown",
   "metadata": {},
   "source": [
    "# More to come. We will have scalable implementations for l1-regularized PageRank and Capacity Releasing Diffusion soon."
   ]
  },
  {
   "cell_type": "code",
   "execution_count": null,
   "metadata": {},
   "outputs": [],
   "source": []
  },
  {
   "cell_type": "code",
   "execution_count": null,
   "metadata": {},
   "outputs": [],
   "source": []
  },
  {
   "cell_type": "code",
   "execution_count": null,
   "metadata": {},
   "outputs": [],
   "source": []
  },
  {
   "cell_type": "code",
   "execution_count": null,
   "metadata": {},
   "outputs": [],
   "source": []
  },
  {
   "cell_type": "code",
   "execution_count": null,
   "metadata": {},
   "outputs": [],
   "source": []
  },
  {
   "cell_type": "code",
   "execution_count": null,
   "metadata": {},
   "outputs": [],
   "source": []
  },
  {
   "cell_type": "code",
   "execution_count": null,
   "metadata": {},
   "outputs": [],
   "source": []
  },
  {
   "cell_type": "code",
   "execution_count": null,
   "metadata": {},
   "outputs": [],
   "source": []
  },
  {
   "cell_type": "code",
   "execution_count": null,
   "metadata": {},
   "outputs": [],
   "source": []
  },
  {
   "cell_type": "code",
   "execution_count": null,
   "metadata": {},
   "outputs": [],
   "source": []
  },
  {
   "cell_type": "code",
   "execution_count": null,
   "metadata": {},
   "outputs": [],
   "source": []
  },
  {
   "cell_type": "code",
   "execution_count": null,
   "metadata": {},
   "outputs": [],
   "source": []
  },
  {
   "cell_type": "code",
   "execution_count": null,
   "metadata": {},
   "outputs": [],
   "source": []
  },
  {
   "cell_type": "code",
   "execution_count": null,
   "metadata": {},
   "outputs": [],
   "source": []
  },
  {
   "cell_type": "code",
   "execution_count": null,
   "metadata": {},
   "outputs": [],
   "source": []
  },
  {
   "cell_type": "code",
   "execution_count": null,
   "metadata": {},
   "outputs": [],
   "source": []
  },
  {
   "cell_type": "code",
   "execution_count": null,
   "metadata": {
    "collapsed": true
   },
   "outputs": [],
   "source": []
  },
  {
   "cell_type": "code",
   "execution_count": null,
   "metadata": {},
   "outputs": [],
   "source": []
  },
  {
   "cell_type": "code",
   "execution_count": null,
   "metadata": {
    "collapsed": true
   },
   "outputs": [],
   "source": []
  },
  {
   "cell_type": "code",
   "execution_count": null,
   "metadata": {
    "collapsed": true
   },
   "outputs": [],
   "source": []
  },
  {
   "cell_type": "code",
   "execution_count": null,
   "metadata": {
    "collapsed": true
   },
   "outputs": [],
   "source": []
  },
  {
   "cell_type": "code",
   "execution_count": null,
   "metadata": {
    "collapsed": true
   },
   "outputs": [],
   "source": []
  },
  {
   "cell_type": "code",
   "execution_count": null,
   "metadata": {
    "collapsed": true
   },
   "outputs": [],
   "source": []
  },
  {
   "cell_type": "code",
   "execution_count": null,
   "metadata": {
    "collapsed": true
   },
   "outputs": [],
   "source": []
  },
  {
   "cell_type": "code",
   "execution_count": null,
   "metadata": {
    "collapsed": true
   },
   "outputs": [],
   "source": []
  },
  {
   "cell_type": "code",
   "execution_count": null,
   "metadata": {
    "collapsed": true
   },
   "outputs": [],
   "source": []
  }
 ],
 "metadata": {
  "kernelspec": {
   "display_name": "Python 3",
   "language": "python",
   "name": "python3"
  },
  "language_info": {
   "codemirror_mode": {
    "name": "ipython",
    "version": 3
   },
   "file_extension": ".py",
   "mimetype": "text/x-python",
   "name": "python",
   "nbconvert_exporter": "python",
   "pygments_lexer": "ipython3",
   "version": "3.7.1"
  }
 },
 "nbformat": 4,
 "nbformat_minor": 1
}
