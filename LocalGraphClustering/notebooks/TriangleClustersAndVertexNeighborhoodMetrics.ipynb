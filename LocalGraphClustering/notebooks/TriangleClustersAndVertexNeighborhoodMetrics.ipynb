{
 "cells": [
  {
   "cell_type": "code",
   "execution_count": 4,
   "metadata": {},
   "outputs": [],
   "source": [
    "import localgraphclustering as lgc\n",
    "\n",
    "import time\n",
    "import numpy as np\n",
    "\n",
    "# Import matplotlib \n",
    "import matplotlib.pyplot as plt"
   ]
  },
  {
   "cell_type": "markdown",
   "metadata": {},
   "source": [
    "## Clustering metrics for vertex neighborhood"
   ]
  },
  {
   "cell_type": "code",
   "execution_count": 5,
   "metadata": {},
   "outputs": [
    {
     "name": "stdout",
     "output_type": "stream",
     "text": [
      "Help on function triangleclusters in module localgraphclustering.triangleclusters:\n",
      "\n",
      "triangleclusters(G)\n",
      "    TRIANGLECLUSTERS Clustering metrics for clusters of vertex neighborhoods.\n",
      "    This function studies clusters which are given by vertex neighborhoods.\n",
      "    Let v be a vertex in a graph, then the cluster associated with v is just\n",
      "    the set of all neighbors of v and v itself.  We return the clustering\n",
      "    metrics associated with these clusters for all vertices in the graph.\n",
      "    \n",
      "    Parameters\n",
      "    ----------\n",
      "    \n",
      "    G: GraphLocal\n",
      "    \n",
      "    Returns\n",
      "    -------\n",
      "    \n",
      "    cond: Sequence[float]\n",
      "        conductance of each cluster of a vertex neighborhood\n",
      "    \n",
      "    cut: Sequence[float]\n",
      "        cut of each cluster\n",
      "    \n",
      "    vol: Sequence[float]\n",
      "        volume of each cluster\n",
      "    \n",
      "    cc: Sequence[float]\n",
      "        clustering coefficient of each vertex\n",
      "    \n",
      "    t: Sequence[float]\n",
      "        number of triangles centered at each vertex\n",
      "\n"
     ]
    }
   ],
   "source": [
    "g = lgc.GraphLocal('datasets/dolphins.smat',separator = ' ')\n",
    "help(lgc.triangleclusters)\n",
    "cond,cut,vol,cc,t = lgc.triangleclusters(g)"
   ]
  },
  {
   "cell_type": "markdown",
   "metadata": {},
   "source": [
    "## Find extrema in a graph based on neighborhoods."
   ]
  },
  {
   "cell_type": "code",
   "execution_count": 6,
   "metadata": {},
   "outputs": [
    {
     "name": "stdout",
     "output_type": "stream",
     "text": [
      "Help on function neighborhoodmin in module localgraphclustering.neighborhoodmin:\n",
      "\n",
      "neighborhoodmin(G, vals, strict)\n",
      "    Find extrema in a graph based on neighborhoods.\n",
      "    Parameters\n",
      "    ----------\n",
      "    G: GraphLocal\n",
      "    vals: Sequence[float]\n",
      "        features of neighborhoods used to compare against each other, i.e. conductance\n",
      "    strict: bool\n",
      "        If True, find a set of vertices where vals(i) < vals(j) for all neighbors N(j)\n",
      "        i.e. local minima in the space of the graph\n",
      "        If False, find a set of vertices where vals(i) <= vals(j) for all neighbors N(j)\n",
      "        i.e. local minima in the space of the graph\n",
      "    Returns\n",
      "    -------\n",
      "    minverts: Sequence[int]\n",
      "        the set of vertices\n",
      "    minvals: Sequence[float]\n",
      "        the set of min values\n",
      "\n"
     ]
    }
   ],
   "source": [
    "help(lgc.neighborhoodmin)\n",
    "minverts, minvals = lgc.neighborhoodmin(g,cond,True)"
   ]
  },
  {
   "cell_type": "code",
   "execution_count": null,
   "metadata": {},
   "outputs": [],
   "source": []
  },
  {
   "cell_type": "code",
   "execution_count": null,
   "metadata": {},
   "outputs": [],
   "source": []
  },
  {
   "cell_type": "code",
   "execution_count": null,
   "metadata": {},
   "outputs": [],
   "source": []
  },
  {
   "cell_type": "code",
   "execution_count": null,
   "metadata": {},
   "outputs": [],
   "source": []
  },
  {
   "cell_type": "code",
   "execution_count": null,
   "metadata": {},
   "outputs": [],
   "source": []
  },
  {
   "cell_type": "code",
   "execution_count": null,
   "metadata": {},
   "outputs": [],
   "source": []
  },
  {
   "cell_type": "code",
   "execution_count": null,
   "metadata": {},
   "outputs": [],
   "source": []
  },
  {
   "cell_type": "code",
   "execution_count": null,
   "metadata": {},
   "outputs": [],
   "source": []
  },
  {
   "cell_type": "code",
   "execution_count": null,
   "metadata": {},
   "outputs": [],
   "source": []
  },
  {
   "cell_type": "code",
   "execution_count": null,
   "metadata": {},
   "outputs": [],
   "source": []
  },
  {
   "cell_type": "code",
   "execution_count": null,
   "metadata": {},
   "outputs": [],
   "source": []
  },
  {
   "cell_type": "code",
   "execution_count": null,
   "metadata": {},
   "outputs": [],
   "source": []
  },
  {
   "cell_type": "code",
   "execution_count": null,
   "metadata": {},
   "outputs": [],
   "source": []
  },
  {
   "cell_type": "code",
   "execution_count": null,
   "metadata": {},
   "outputs": [],
   "source": []
  },
  {
   "cell_type": "code",
   "execution_count": null,
   "metadata": {},
   "outputs": [],
   "source": []
  },
  {
   "cell_type": "code",
   "execution_count": null,
   "metadata": {},
   "outputs": [],
   "source": []
  },
  {
   "cell_type": "code",
   "execution_count": null,
   "metadata": {},
   "outputs": [],
   "source": []
  },
  {
   "cell_type": "code",
   "execution_count": null,
   "metadata": {},
   "outputs": [],
   "source": []
  },
  {
   "cell_type": "code",
   "execution_count": null,
   "metadata": {},
   "outputs": [],
   "source": []
  },
  {
   "cell_type": "code",
   "execution_count": null,
   "metadata": {},
   "outputs": [],
   "source": []
  },
  {
   "cell_type": "code",
   "execution_count": null,
   "metadata": {},
   "outputs": [],
   "source": []
  },
  {
   "cell_type": "code",
   "execution_count": null,
   "metadata": {},
   "outputs": [],
   "source": []
  },
  {
   "cell_type": "code",
   "execution_count": null,
   "metadata": {},
   "outputs": [],
   "source": []
  },
  {
   "cell_type": "code",
   "execution_count": null,
   "metadata": {},
   "outputs": [],
   "source": []
  },
  {
   "cell_type": "code",
   "execution_count": null,
   "metadata": {},
   "outputs": [],
   "source": []
  },
  {
   "cell_type": "code",
   "execution_count": null,
   "metadata": {},
   "outputs": [],
   "source": []
  },
  {
   "cell_type": "code",
   "execution_count": null,
   "metadata": {},
   "outputs": [],
   "source": []
  },
  {
   "cell_type": "code",
   "execution_count": null,
   "metadata": {},
   "outputs": [],
   "source": []
  },
  {
   "cell_type": "code",
   "execution_count": null,
   "metadata": {},
   "outputs": [],
   "source": []
  },
  {
   "cell_type": "code",
   "execution_count": null,
   "metadata": {},
   "outputs": [],
   "source": []
  },
  {
   "cell_type": "code",
   "execution_count": null,
   "metadata": {},
   "outputs": [],
   "source": []
  },
  {
   "cell_type": "code",
   "execution_count": null,
   "metadata": {},
   "outputs": [],
   "source": []
  },
  {
   "cell_type": "code",
   "execution_count": null,
   "metadata": {},
   "outputs": [],
   "source": []
  },
  {
   "cell_type": "code",
   "execution_count": null,
   "metadata": {},
   "outputs": [],
   "source": []
  },
  {
   "cell_type": "code",
   "execution_count": null,
   "metadata": {
    "collapsed": true
   },
   "outputs": [],
   "source": []
  }
 ],
 "metadata": {
  "kernelspec": {
   "display_name": "Python 3",
   "language": "python",
   "name": "python3"
  },
  "language_info": {
   "codemirror_mode": {
    "name": "ipython",
    "version": 3
   },
   "file_extension": ".py",
   "mimetype": "text/x-python",
   "name": "python",
   "nbconvert_exporter": "python",
   "pygments_lexer": "ipython3",
   "version": "3.7.1"
  }
 },
 "nbformat": 4,
 "nbformat_minor": 2
}
